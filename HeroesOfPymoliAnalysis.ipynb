{
 "cells": [
  {
   "cell_type": "markdown",
   "metadata": {},
   "source": [
    "Heroes Of Pymoli Data Analysis \n",
    "- Out of 576 total active players the majority are male.(84%)\n",
    "- The proportion of females playing the game actively comes out to 14%.\n",
    "- Our most popular items catogorized by their Item ID in order ranking from 1-5 are: 178, 145, 108, 82 and 19.\n",
    "- Our most profitable items catogorized by their Item ID in order ranking from 1-5 are: 178, 82, 145, 92, 103.\n",
    "- Our largest age demographic is 20-24(44.8%) followed by 15-19(18.6%) and then 25-29(13.4%).\n",
    "- We can safely conclude our largest demographic would be catogorized by 20-24 year old males. These are also the biggest spenders within the game with total spent of 1114.06 dollars and a highest average per player spent of 4.32 dollars.\n"
   ]
  },
  {
   "cell_type": "code",
   "execution_count": 535,
   "metadata": {},
   "outputs": [],
   "source": [
    "# Import dependencies and Setup\n",
    "import pandas as pd\n",
    "import numpy as np\n",
    "\n",
    "#Loading csv file\n",
    "data_file = \"purchase_data.csv\"\n",
    "\n",
    "#Read file and store into Pandas data frame \n",
    "Pymoli_Data = pd.read_csv(data_file)"
   ]
  },
  {
   "cell_type": "code",
   "execution_count": 536,
   "metadata": {
    "scrolled": true
   },
   "outputs": [],
   "source": [
    "#Getting first peak at loaded data \n",
    "#Pymoli_Data.head()"
   ]
  },
  {
   "cell_type": "code",
   "execution_count": 537,
   "metadata": {},
   "outputs": [],
   "source": [
    "#declaring and defining Total Players variable\n",
    "Total_Players = Pymoli_Data['SN'].nunique()"
   ]
  },
  {
   "cell_type": "markdown",
   "metadata": {},
   "source": [
    "Player Count"
   ]
  },
  {
   "cell_type": "code",
   "execution_count": 538,
   "metadata": {},
   "outputs": [
    {
     "data": {
      "text/html": [
       "<div>\n",
       "<style scoped>\n",
       "    .dataframe tbody tr th:only-of-type {\n",
       "        vertical-align: middle;\n",
       "    }\n",
       "\n",
       "    .dataframe tbody tr th {\n",
       "        vertical-align: top;\n",
       "    }\n",
       "\n",
       "    .dataframe thead th {\n",
       "        text-align: right;\n",
       "    }\n",
       "</style>\n",
       "<table border=\"1\" class=\"dataframe\">\n",
       "  <thead>\n",
       "    <tr style=\"text-align: right;\">\n",
       "      <th></th>\n",
       "      <th>Total Players</th>\n",
       "    </tr>\n",
       "  </thead>\n",
       "  <tbody>\n",
       "    <tr>\n",
       "      <th>0</th>\n",
       "      <td>576</td>\n",
       "    </tr>\n",
       "  </tbody>\n",
       "</table>\n",
       "</div>"
      ],
      "text/plain": [
       "   Total Players\n",
       "0            576"
      ]
     },
     "execution_count": 538,
     "metadata": {},
     "output_type": "execute_result"
    }
   ],
   "source": [
    "#creating Total Players data frame \n",
    "Total_Players_Df = pd.DataFrame ({\"Total Players\": [Total_Players]})\n",
    "Total_Players_Df"
   ]
  },
  {
   "cell_type": "code",
   "execution_count": 539,
   "metadata": {},
   "outputs": [],
   "source": [
    "#declaring and calculating variables needed for Purchase Analysis data frame \n",
    "#printing outputs \n",
    "num_unique_items = Pymoli_Data['Item Name'].nunique()  \n",
    "#print (num_unique_items)\n",
    "\n",
    "average_price = Pymoli_Data['Price'].mean()\n",
    "#print (average_price)\n",
    "\n",
    "num_of_purchases = Pymoli_Data['Purchase ID'].nunique()\n",
    "#print (num_of_purchases)\n",
    "\n",
    "total_revenue = Pymoli_Data['Price'].sum()\n",
    "#print (total_revenue)"
   ]
  },
  {
   "cell_type": "markdown",
   "metadata": {},
   "source": [
    "Purchasing Analysis (Total)"
   ]
  },
  {
   "cell_type": "code",
   "execution_count": 540,
   "metadata": {},
   "outputs": [
    {
     "data": {
      "text/html": [
       "<div>\n",
       "<style scoped>\n",
       "    .dataframe tbody tr th:only-of-type {\n",
       "        vertical-align: middle;\n",
       "    }\n",
       "\n",
       "    .dataframe tbody tr th {\n",
       "        vertical-align: top;\n",
       "    }\n",
       "\n",
       "    .dataframe thead th {\n",
       "        text-align: right;\n",
       "    }\n",
       "</style>\n",
       "<table border=\"1\" class=\"dataframe\">\n",
       "  <thead>\n",
       "    <tr style=\"text-align: right;\">\n",
       "      <th></th>\n",
       "      <th>Number of Unique Items</th>\n",
       "      <th>Average Price</th>\n",
       "      <th>Number of Purchases</th>\n",
       "      <th>Total Revenue</th>\n",
       "    </tr>\n",
       "  </thead>\n",
       "  <tbody>\n",
       "    <tr>\n",
       "      <th>0</th>\n",
       "      <td>179</td>\n",
       "      <td>$3.05</td>\n",
       "      <td>780</td>\n",
       "      <td>$2379.77</td>\n",
       "    </tr>\n",
       "  </tbody>\n",
       "</table>\n",
       "</div>"
      ],
      "text/plain": [
       "   Number of Unique Items Average Price  Number of Purchases Total Revenue\n",
       "0                     179         $3.05                  780      $2379.77"
      ]
     },
     "execution_count": 540,
     "metadata": {},
     "output_type": "execute_result"
    }
   ],
   "source": [
    "#creating Purchase Analysis data frame by plugging in variables\n",
    "purchasing_analysis = pd.DataFrame({'Number of Unique Items':[num_unique_items],\n",
    "                                    'Average Price':[average_price],\n",
    "                                    'Number of Purchases':[num_of_purchases],\n",
    "                                    'Total Revenue':[total_revenue]})\n",
    "#formatting data to appear cleaner \n",
    "purchasing_analysis[\"Average Price\"] = purchasing_analysis[\"Average Price\"].map(\"${:.2f}\".format)\n",
    "purchasing_analysis[\"Total Revenue\"] = purchasing_analysis[\"Total Revenue\"].map(\"${:.2f}\".format)\n",
    "\n",
    "#printing data frame \n",
    "purchasing_analysis"
   ]
  },
  {
   "cell_type": "code",
   "execution_count": 541,
   "metadata": {
    "scrolled": false
   },
   "outputs": [],
   "source": [
    "#dropping duplicates via screename to get accurate count of male/female\n",
    "drop_duplicateSN_df = Pymoli_Data.drop_duplicates(['SN'], keep='first') \n"
   ]
  },
  {
   "cell_type": "code",
   "execution_count": 542,
   "metadata": {},
   "outputs": [],
   "source": [
    "#calculating counts of male/female\n",
    "male_female_counts = drop_duplicateSN_df['Gender'].value_counts()\n",
    "#male_female_counts.head()"
   ]
  },
  {
   "cell_type": "code",
   "execution_count": 543,
   "metadata": {},
   "outputs": [],
   "source": [
    "#calculating percentages of players based on gender\n",
    "gender_percents = drop_duplicateSN_df['Gender'].value_counts()/Total_Players * 100\n",
    "#gender_percents.head()"
   ]
  },
  {
   "cell_type": "markdown",
   "metadata": {},
   "source": [
    "Gender Demographics"
   ]
  },
  {
   "cell_type": "code",
   "execution_count": 544,
   "metadata": {},
   "outputs": [
    {
     "data": {
      "text/html": [
       "<div>\n",
       "<style scoped>\n",
       "    .dataframe tbody tr th:only-of-type {\n",
       "        vertical-align: middle;\n",
       "    }\n",
       "\n",
       "    .dataframe tbody tr th {\n",
       "        vertical-align: top;\n",
       "    }\n",
       "\n",
       "    .dataframe thead th {\n",
       "        text-align: right;\n",
       "    }\n",
       "</style>\n",
       "<table border=\"1\" class=\"dataframe\">\n",
       "  <thead>\n",
       "    <tr style=\"text-align: right;\">\n",
       "      <th></th>\n",
       "      <th>Total Count</th>\n",
       "      <th>Percentage of Players</th>\n",
       "    </tr>\n",
       "  </thead>\n",
       "  <tbody>\n",
       "    <tr>\n",
       "      <th>Male</th>\n",
       "      <td>484</td>\n",
       "      <td>%84.03</td>\n",
       "    </tr>\n",
       "    <tr>\n",
       "      <th>Female</th>\n",
       "      <td>81</td>\n",
       "      <td>%14.06</td>\n",
       "    </tr>\n",
       "    <tr>\n",
       "      <th>Other / Non-Disclosed</th>\n",
       "      <td>11</td>\n",
       "      <td>%1.91</td>\n",
       "    </tr>\n",
       "  </tbody>\n",
       "</table>\n",
       "</div>"
      ],
      "text/plain": [
       "                       Total Count Percentage of Players\n",
       "Male                           484                %84.03\n",
       "Female                          81                %14.06\n",
       "Other / Non-Disclosed           11                 %1.91"
      ]
     },
     "execution_count": 544,
     "metadata": {},
     "output_type": "execute_result"
    }
   ],
   "source": [
    "#creating summary Dataframe for Gender Demographics \n",
    "gender_summary = pd.DataFrame({\"Total Count\": male_female_counts,\n",
    "                               \"Percentage of Players\": gender_percents})\n",
    "gender_summary[\"Percentage of Players\"] = gender_summary[\"Percentage of Players\"].map(\"%{:.2f}\".format)\n",
    "gender_summary.head()"
   ]
  },
  {
   "cell_type": "code",
   "execution_count": 545,
   "metadata": {},
   "outputs": [],
   "source": [
    "#Creating purchasing analysis by gender. \n",
    "#calculated total purchase count per gender\n",
    "purchase_count = Pymoli_Data['Gender'].value_counts()\n",
    "#purchase_count.head()"
   ]
  },
  {
   "cell_type": "code",
   "execution_count": 546,
   "metadata": {},
   "outputs": [],
   "source": [
    "#grouping data by \"gender\"\n",
    "gender_grouped = Pymoli_Data.groupby(['Gender'])\n",
    "#gender_grouped.count().head(10)"
   ]
  },
  {
   "cell_type": "code",
   "execution_count": 547,
   "metadata": {},
   "outputs": [],
   "source": [
    "#calculated average purchase price based on gender groupby\n",
    "avg_purchase_price = gender_grouped[\"Price\"].mean()\n",
    "#avg_purchase_price.head()"
   ]
  },
  {
   "cell_type": "code",
   "execution_count": 548,
   "metadata": {},
   "outputs": [],
   "source": [
    "#calculated total purchase value based on gender groupby\n",
    "total_purchase_value = gender_grouped[\"Price\"].sum()\n",
    "#total_purchase_value.head()"
   ]
  },
  {
   "cell_type": "code",
   "execution_count": 549,
   "metadata": {},
   "outputs": [],
   "source": [
    "#calculate avg total purchase per person \n",
    "avg_per_person = total_purchase_value/male_female_counts\n",
    "#avg_per_person.head()"
   ]
  },
  {
   "cell_type": "markdown",
   "metadata": {},
   "source": [
    "Purchasing Analysis (Gender) "
   ]
  },
  {
   "cell_type": "code",
   "execution_count": 550,
   "metadata": {},
   "outputs": [
    {
     "data": {
      "text/html": [
       "<div>\n",
       "<style scoped>\n",
       "    .dataframe tbody tr th:only-of-type {\n",
       "        vertical-align: middle;\n",
       "    }\n",
       "\n",
       "    .dataframe tbody tr th {\n",
       "        vertical-align: top;\n",
       "    }\n",
       "\n",
       "    .dataframe thead th {\n",
       "        text-align: right;\n",
       "    }\n",
       "</style>\n",
       "<table border=\"1\" class=\"dataframe\">\n",
       "  <thead>\n",
       "    <tr style=\"text-align: right;\">\n",
       "      <th></th>\n",
       "      <th>Purchase Count</th>\n",
       "      <th>Average Purchase Price</th>\n",
       "      <th>Total Purchase Value</th>\n",
       "      <th>Avg Total Purchase per Person</th>\n",
       "    </tr>\n",
       "  </thead>\n",
       "  <tbody>\n",
       "    <tr>\n",
       "      <th>Female</th>\n",
       "      <td>113</td>\n",
       "      <td>$3.20</td>\n",
       "      <td>$361.94</td>\n",
       "      <td>$4.47</td>\n",
       "    </tr>\n",
       "    <tr>\n",
       "      <th>Male</th>\n",
       "      <td>652</td>\n",
       "      <td>$3.02</td>\n",
       "      <td>$1967.64</td>\n",
       "      <td>$4.07</td>\n",
       "    </tr>\n",
       "    <tr>\n",
       "      <th>Other / Non-Disclosed</th>\n",
       "      <td>15</td>\n",
       "      <td>$3.35</td>\n",
       "      <td>$50.19</td>\n",
       "      <td>$4.56</td>\n",
       "    </tr>\n",
       "  </tbody>\n",
       "</table>\n",
       "</div>"
      ],
      "text/plain": [
       "                       Purchase Count Average Purchase Price  \\\n",
       "Female                            113                  $3.20   \n",
       "Male                              652                  $3.02   \n",
       "Other / Non-Disclosed              15                  $3.35   \n",
       "\n",
       "                      Total Purchase Value Avg Total Purchase per Person  \n",
       "Female                             $361.94                         $4.47  \n",
       "Male                              $1967.64                         $4.07  \n",
       "Other / Non-Disclosed               $50.19                         $4.56  "
      ]
     },
     "execution_count": 550,
     "metadata": {},
     "output_type": "execute_result"
    }
   ],
   "source": [
    "#creating the DataFrame for purchase analysis based on gender\n",
    "gender_purchase_summary = pd.DataFrame({\"Purchase Count\": purchase_count,\n",
    "                                       \"Average Purchase Price\": avg_purchase_price,\n",
    "                                       \"Total Purchase Value\": total_purchase_value,\n",
    "                                       \"Avg Total Purchase per Person\": avg_per_person})\n",
    "#reformatting for cleaner presentation\n",
    "gender_purchase_summary[\"Average Purchase Price\"] = gender_purchase_summary[\"Average Purchase Price\"].map(\"${:.2f}\".format)\n",
    "gender_purchase_summary[\"Total Purchase Value\"] = gender_purchase_summary[\"Total Purchase Value\"].map(\"${:.2f}\".format)\n",
    "gender_purchase_summary[\"Avg Total Purchase per Person\"] = gender_purchase_summary[\"Avg Total Purchase per Person\"].map(\"${:.2f}\".format)\n",
    "\n",
    "gender_purchase_summary"
   ]
  },
  {
   "cell_type": "code",
   "execution_count": 551,
   "metadata": {},
   "outputs": [],
   "source": [
    "#Beginning Age Demographics analysis \n",
    "#printing max and min age values to create bins \n",
    "#print(Pymoli_Data[\"Age\"].max()) =45\n",
    "#print(Pymoli_Data[\"Age\"].min()) =7"
   ]
  },
  {
   "cell_type": "code",
   "execution_count": 552,
   "metadata": {},
   "outputs": [
    {
     "data": {
      "text/plain": [
       "0      20-24\n",
       "1        40+\n",
       "2      20-24\n",
       "3      20-24\n",
       "4      20-24\n",
       "5      20-24\n",
       "6      35-39\n",
       "7      20-24\n",
       "8      20-24\n",
       "9      35-39\n",
       "10     20-24\n",
       "11     20-24\n",
       "12     20-24\n",
       "13     20-24\n",
       "14     35-39\n",
       "15     20-24\n",
       "16     20-24\n",
       "17     20-24\n",
       "18     20-24\n",
       "19     30-34\n",
       "20     20-24\n",
       "21     20-24\n",
       "22     35-39\n",
       "23       40+\n",
       "24     30-34\n",
       "25     25-29\n",
       "26     10-14\n",
       "27       <10\n",
       "28     20-24\n",
       "29     20-24\n",
       "       ...  \n",
       "728      40+\n",
       "729    20-24\n",
       "730    30-34\n",
       "731    20-24\n",
       "733    20-24\n",
       "736    20-24\n",
       "737    20-24\n",
       "738    35-39\n",
       "739    35-39\n",
       "741    15-19\n",
       "742    20-24\n",
       "743    15-19\n",
       "745    35-39\n",
       "746    20-24\n",
       "748    20-24\n",
       "750    20-24\n",
       "751    10-14\n",
       "752    15-19\n",
       "753    35-39\n",
       "756    20-24\n",
       "757    15-19\n",
       "761      40+\n",
       "765    15-19\n",
       "769    15-19\n",
       "771    15-19\n",
       "773    20-24\n",
       "774    10-14\n",
       "775    20-24\n",
       "777    20-24\n",
       "778      <10\n",
       "Name: Age, Length: 576, dtype: category\n",
       "Categories (8, object): [<10 < 10-14 < 15-19 < 20-24 < 25-29 < 30-34 < 35-39 < 40+]"
      ]
     },
     "execution_count": 552,
     "metadata": {},
     "output_type": "execute_result"
    }
   ],
   "source": [
    "#creating bins to create age ranges\n",
    "bins = [0, 9, 14, 19, 24, 29, 34, 39, 46]\n",
    "\n",
    "#creating labels for these bins \n",
    "group_labels = ['<10', '10-14', '15-19', '20-24', '25-29', '30-34', '35-39', '40+']\n",
    "\n",
    "#slicing data and placing it into created bins\n",
    "pd.cut(drop_duplicateSN_df[\"Age\"], bins, labels=group_labels)"
   ]
  },
  {
   "cell_type": "code",
   "execution_count": 553,
   "metadata": {},
   "outputs": [
    {
     "name": "stderr",
     "output_type": "stream",
     "text": [
      "/Users/addisonpietroburgo/anaconda3/envs/PythonData/lib/python3.6/site-packages/ipykernel_launcher.py:1: SettingWithCopyWarning: \n",
      "A value is trying to be set on a copy of a slice from a DataFrame.\n",
      "Try using .loc[row_indexer,col_indexer] = value instead\n",
      "\n",
      "See the caveats in the documentation: http://pandas.pydata.org/pandas-docs/stable/indexing.html#indexing-view-versus-copy\n",
      "  \"\"\"Entry point for launching an IPython kernel.\n"
     ]
    }
   ],
   "source": [
    "drop_duplicateSN_df[\"Age Group\"] = pd.cut(drop_duplicateSN_df[\"Age\"], bins, labels=group_labels)\n",
    "#drop_duplicateSN_df.head()"
   ]
  },
  {
   "cell_type": "code",
   "execution_count": 554,
   "metadata": {},
   "outputs": [],
   "source": [
    "#calculating total count and percentage of players \n",
    "total_age_counts = drop_duplicateSN_df['Age Group'].value_counts()\n",
    "#print(total_age_counts)\n",
    "\n",
    "percent_by_age = drop_duplicateSN_df['Age Group'].value_counts()/Total_Players * 100\n",
    "#print(percent_by_age)"
   ]
  },
  {
   "cell_type": "markdown",
   "metadata": {},
   "source": [
    "Age Demographics"
   ]
  },
  {
   "cell_type": "code",
   "execution_count": 555,
   "metadata": {},
   "outputs": [
    {
     "data": {
      "text/html": [
       "<div>\n",
       "<style scoped>\n",
       "    .dataframe tbody tr th:only-of-type {\n",
       "        vertical-align: middle;\n",
       "    }\n",
       "\n",
       "    .dataframe tbody tr th {\n",
       "        vertical-align: top;\n",
       "    }\n",
       "\n",
       "    .dataframe thead th {\n",
       "        text-align: right;\n",
       "    }\n",
       "</style>\n",
       "<table border=\"1\" class=\"dataframe\">\n",
       "  <thead>\n",
       "    <tr style=\"text-align: right;\">\n",
       "      <th></th>\n",
       "      <th>Total Count</th>\n",
       "      <th>Percentage of Players</th>\n",
       "    </tr>\n",
       "  </thead>\n",
       "  <tbody>\n",
       "    <tr>\n",
       "      <th>&lt;10</th>\n",
       "      <td>17</td>\n",
       "      <td>%2.95</td>\n",
       "    </tr>\n",
       "    <tr>\n",
       "      <th>10-14</th>\n",
       "      <td>22</td>\n",
       "      <td>%3.82</td>\n",
       "    </tr>\n",
       "    <tr>\n",
       "      <th>15-19</th>\n",
       "      <td>107</td>\n",
       "      <td>%18.58</td>\n",
       "    </tr>\n",
       "    <tr>\n",
       "      <th>20-24</th>\n",
       "      <td>258</td>\n",
       "      <td>%44.79</td>\n",
       "    </tr>\n",
       "    <tr>\n",
       "      <th>25-29</th>\n",
       "      <td>77</td>\n",
       "      <td>%13.37</td>\n",
       "    </tr>\n",
       "    <tr>\n",
       "      <th>30-34</th>\n",
       "      <td>52</td>\n",
       "      <td>%9.03</td>\n",
       "    </tr>\n",
       "    <tr>\n",
       "      <th>35-39</th>\n",
       "      <td>31</td>\n",
       "      <td>%5.38</td>\n",
       "    </tr>\n",
       "    <tr>\n",
       "      <th>40+</th>\n",
       "      <td>12</td>\n",
       "      <td>%2.08</td>\n",
       "    </tr>\n",
       "  </tbody>\n",
       "</table>\n",
       "</div>"
      ],
      "text/plain": [
       "       Total Count Percentage of Players\n",
       "<10             17                 %2.95\n",
       "10-14           22                 %3.82\n",
       "15-19          107                %18.58\n",
       "20-24          258                %44.79\n",
       "25-29           77                %13.37\n",
       "30-34           52                 %9.03\n",
       "35-39           31                 %5.38\n",
       "40+             12                 %2.08"
      ]
     },
     "execution_count": 555,
     "metadata": {},
     "output_type": "execute_result"
    }
   ],
   "source": [
    "#creating a groupby object based on \"Age Group\"\n",
    "\n",
    "by_age_df = pd.DataFrame({\"Total Count\": total_age_counts, \"Percentage of Players\": percent_by_age})\n",
    "by_age_df[\"Percentage of Players\"] = by_age_df[\"Percentage of Players\"].map(\"%{:.2f}\".format)\n",
    "\n",
    "by_age_sort = by_age_df.sort_index(axis=0, level=None, ascending=True,\n",
    "                                   inplace=False, kind='quicksort',\n",
    "                                   na_position='last', sort_remaining=True, by=None)\n",
    "by_age_sort.head(10)"
   ]
  },
  {
   "cell_type": "code",
   "execution_count": 556,
   "metadata": {},
   "outputs": [],
   "source": [
    "#grouping new table by \"Age Group\"\n",
    "Pymoli_Data[\"Age Group\"] = pd.cut(Pymoli_Data[\"Age\"], bins, labels=group_labels)\n",
    "#Pymoli_Data.head()\n"
   ]
  },
  {
   "cell_type": "code",
   "execution_count": 557,
   "metadata": {},
   "outputs": [],
   "source": [
    "total_purchase_counts = Pymoli_Data['Age Group'].value_counts()\n",
    "#print(total_purchase_counts)"
   ]
  },
  {
   "cell_type": "code",
   "execution_count": 558,
   "metadata": {},
   "outputs": [],
   "source": [
    "ages_grouped = Pymoli_Data.groupby(['Age Group'])\n",
    "#ages_grouped.count().head()\n"
   ]
  },
  {
   "cell_type": "code",
   "execution_count": 559,
   "metadata": {},
   "outputs": [],
   "source": [
    "avg_age_purchase_price = ages_grouped[\"Price\"].mean()\n",
    "#avg_age_purchase_price.head()"
   ]
  },
  {
   "cell_type": "code",
   "execution_count": 560,
   "metadata": {},
   "outputs": [],
   "source": [
    "total_age_purchase_value = ages_grouped[\"Price\"].sum()\n",
    "#total_age_purchase_value.head()"
   ]
  },
  {
   "cell_type": "code",
   "execution_count": 561,
   "metadata": {},
   "outputs": [],
   "source": [
    "avg_per_person_age = total_age_purchase_value/total_age_counts\n",
    "#avg_per_person_age.head()"
   ]
  },
  {
   "cell_type": "markdown",
   "metadata": {},
   "source": [
    "Purchasing Analysis (Age) "
   ]
  },
  {
   "cell_type": "code",
   "execution_count": 562,
   "metadata": {},
   "outputs": [
    {
     "data": {
      "text/html": [
       "<div>\n",
       "<style scoped>\n",
       "    .dataframe tbody tr th:only-of-type {\n",
       "        vertical-align: middle;\n",
       "    }\n",
       "\n",
       "    .dataframe tbody tr th {\n",
       "        vertical-align: top;\n",
       "    }\n",
       "\n",
       "    .dataframe thead th {\n",
       "        text-align: right;\n",
       "    }\n",
       "</style>\n",
       "<table border=\"1\" class=\"dataframe\">\n",
       "  <thead>\n",
       "    <tr style=\"text-align: right;\">\n",
       "      <th></th>\n",
       "      <th>Purchase Count</th>\n",
       "      <th>Average Purchase Price</th>\n",
       "      <th>Total Purchase Value</th>\n",
       "      <th>Avg Total Purchase per Person</th>\n",
       "    </tr>\n",
       "  </thead>\n",
       "  <tbody>\n",
       "    <tr>\n",
       "      <th>10-14</th>\n",
       "      <td>28</td>\n",
       "      <td>$2.96</td>\n",
       "      <td>$82.78</td>\n",
       "      <td>$3.76</td>\n",
       "    </tr>\n",
       "    <tr>\n",
       "      <th>15-19</th>\n",
       "      <td>136</td>\n",
       "      <td>$3.04</td>\n",
       "      <td>$412.89</td>\n",
       "      <td>$3.86</td>\n",
       "    </tr>\n",
       "    <tr>\n",
       "      <th>20-24</th>\n",
       "      <td>365</td>\n",
       "      <td>$3.05</td>\n",
       "      <td>$1114.06</td>\n",
       "      <td>$4.32</td>\n",
       "    </tr>\n",
       "    <tr>\n",
       "      <th>25-29</th>\n",
       "      <td>101</td>\n",
       "      <td>$2.90</td>\n",
       "      <td>$293.00</td>\n",
       "      <td>$3.81</td>\n",
       "    </tr>\n",
       "    <tr>\n",
       "      <th>30-34</th>\n",
       "      <td>73</td>\n",
       "      <td>$2.93</td>\n",
       "      <td>$214.00</td>\n",
       "      <td>$4.12</td>\n",
       "    </tr>\n",
       "    <tr>\n",
       "      <th>35-39</th>\n",
       "      <td>41</td>\n",
       "      <td>$3.60</td>\n",
       "      <td>$147.67</td>\n",
       "      <td>$4.76</td>\n",
       "    </tr>\n",
       "    <tr>\n",
       "      <th>40+</th>\n",
       "      <td>13</td>\n",
       "      <td>$2.94</td>\n",
       "      <td>$38.24</td>\n",
       "      <td>$3.19</td>\n",
       "    </tr>\n",
       "    <tr>\n",
       "      <th>&lt;10</th>\n",
       "      <td>23</td>\n",
       "      <td>$3.35</td>\n",
       "      <td>$77.13</td>\n",
       "      <td>$4.54</td>\n",
       "    </tr>\n",
       "  </tbody>\n",
       "</table>\n",
       "</div>"
      ],
      "text/plain": [
       "       Purchase Count Average Purchase Price Total Purchase Value  \\\n",
       "10-14              28                  $2.96               $82.78   \n",
       "15-19             136                  $3.04              $412.89   \n",
       "20-24             365                  $3.05             $1114.06   \n",
       "25-29             101                  $2.90              $293.00   \n",
       "30-34              73                  $2.93              $214.00   \n",
       "35-39              41                  $3.60              $147.67   \n",
       "40+                13                  $2.94               $38.24   \n",
       "<10                23                  $3.35               $77.13   \n",
       "\n",
       "      Avg Total Purchase per Person  \n",
       "10-14                         $3.76  \n",
       "15-19                         $3.86  \n",
       "20-24                         $4.32  \n",
       "25-29                         $3.81  \n",
       "30-34                         $4.12  \n",
       "35-39                         $4.76  \n",
       "40+                           $3.19  \n",
       "<10                           $4.54  "
      ]
     },
     "execution_count": 562,
     "metadata": {},
     "output_type": "execute_result"
    }
   ],
   "source": [
    "age_purchase_summary = pd.DataFrame({\"Purchase Count\": total_purchase_counts,\n",
    "                                       \"Average Purchase Price\": avg_age_purchase_price,\n",
    "                                       \"Total Purchase Value\": total_age_purchase_value,\n",
    "                                       \"Avg Total Purchase per Person\": avg_per_person_age})\n",
    "#reformatting for cleaner presentation\n",
    "age_purchase_summary[\"Average Purchase Price\"] = age_purchase_summary[\"Average Purchase Price\"].map(\"${:.2f}\".format)\n",
    "age_purchase_summary[\"Total Purchase Value\"] = age_purchase_summary[\"Total Purchase Value\"].map(\"${:.2f}\".format)\n",
    "age_purchase_summary[\"Avg Total Purchase per Person\"] = age_purchase_summary[\"Avg Total Purchase per Person\"].map(\"${:.2f}\".format)\n",
    "\n",
    "age_purchase_summary"
   ]
  },
  {
   "cell_type": "code",
   "execution_count": 563,
   "metadata": {},
   "outputs": [],
   "source": [
    "total_SN_purchase_counts = Pymoli_Data['SN'].value_counts()\n",
    "#print(total_SN_purchase_counts)"
   ]
  },
  {
   "cell_type": "code",
   "execution_count": 564,
   "metadata": {
    "scrolled": true
   },
   "outputs": [],
   "source": [
    "SN_grouped = Pymoli_Data.groupby([\"SN\"])\n",
    "#SN_grouped.count().head()"
   ]
  },
  {
   "cell_type": "code",
   "execution_count": 565,
   "metadata": {},
   "outputs": [],
   "source": [
    "SN_avg_purchase = SN_grouped[\"Price\"].mean()\n",
    "#SN_avg_purchase.head()"
   ]
  },
  {
   "cell_type": "code",
   "execution_count": 566,
   "metadata": {},
   "outputs": [],
   "source": [
    "SN_purchase_total = SN_grouped[\"Price\"].sum()\n",
    "#SN_purchase_total.head()"
   ]
  },
  {
   "cell_type": "code",
   "execution_count": 567,
   "metadata": {},
   "outputs": [],
   "source": [
    "top_spenders = pd.DataFrame({\"Purchase Count\": total_SN_purchase_counts,\n",
    "                            \"Average Purchase Price\": SN_avg_purchase,\n",
    "                            \"Total Purchase Value\": SN_purchase_total})\n",
    "\n",
    "#top_spenders.head()"
   ]
  },
  {
   "cell_type": "markdown",
   "metadata": {},
   "source": [
    "Top Spenders"
   ]
  },
  {
   "cell_type": "code",
   "execution_count": 568,
   "metadata": {},
   "outputs": [
    {
     "data": {
      "text/html": [
       "<div>\n",
       "<style scoped>\n",
       "    .dataframe tbody tr th:only-of-type {\n",
       "        vertical-align: middle;\n",
       "    }\n",
       "\n",
       "    .dataframe tbody tr th {\n",
       "        vertical-align: top;\n",
       "    }\n",
       "\n",
       "    .dataframe thead th {\n",
       "        text-align: right;\n",
       "    }\n",
       "</style>\n",
       "<table border=\"1\" class=\"dataframe\">\n",
       "  <thead>\n",
       "    <tr style=\"text-align: right;\">\n",
       "      <th></th>\n",
       "      <th>Purchase Count</th>\n",
       "      <th>Average Purchase Price</th>\n",
       "      <th>Total Purchase Value</th>\n",
       "    </tr>\n",
       "  </thead>\n",
       "  <tbody>\n",
       "    <tr>\n",
       "      <th>Lisosia93</th>\n",
       "      <td>5</td>\n",
       "      <td>$3.79</td>\n",
       "      <td>$18.96</td>\n",
       "    </tr>\n",
       "    <tr>\n",
       "      <th>Idastidru52</th>\n",
       "      <td>4</td>\n",
       "      <td>$3.86</td>\n",
       "      <td>$15.45</td>\n",
       "    </tr>\n",
       "    <tr>\n",
       "      <th>Chamjask73</th>\n",
       "      <td>3</td>\n",
       "      <td>$4.61</td>\n",
       "      <td>$13.83</td>\n",
       "    </tr>\n",
       "    <tr>\n",
       "      <th>Iral74</th>\n",
       "      <td>4</td>\n",
       "      <td>$3.40</td>\n",
       "      <td>$13.62</td>\n",
       "    </tr>\n",
       "    <tr>\n",
       "      <th>Iskadarya95</th>\n",
       "      <td>3</td>\n",
       "      <td>$4.37</td>\n",
       "      <td>$13.10</td>\n",
       "    </tr>\n",
       "  </tbody>\n",
       "</table>\n",
       "</div>"
      ],
      "text/plain": [
       "             Purchase Count Average Purchase Price Total Purchase Value\n",
       "Lisosia93                 5                  $3.79               $18.96\n",
       "Idastidru52               4                  $3.86               $15.45\n",
       "Chamjask73                3                  $4.61               $13.83\n",
       "Iral74                    4                  $3.40               $13.62\n",
       "Iskadarya95               3                  $4.37               $13.10"
      ]
     },
     "execution_count": 568,
     "metadata": {},
     "output_type": "execute_result"
    }
   ],
   "source": [
    "#sorting so data will descend from highest total purchase value\n",
    "top_spenders_sort = top_spenders.sort_values(by='Total Purchase Value', ascending=False)\n",
    "\n",
    "top_spenders_sort[\"Average Purchase Price\"] = top_spenders_sort[\"Average Purchase Price\"].map(\"${:.2f}\".format)\n",
    "top_spenders_sort[\"Total Purchase Value\"] = top_spenders_sort[\"Total Purchase Value\"].map(\"${:.2f}\".format)\n",
    "top_spenders_sort.head()"
   ]
  },
  {
   "cell_type": "markdown",
   "metadata": {},
   "source": [
    "Most Popular Items"
   ]
  },
  {
   "cell_type": "code",
   "execution_count": 569,
   "metadata": {},
   "outputs": [
    {
     "data": {
      "text/html": [
       "<div>\n",
       "<style scoped>\n",
       "    .dataframe tbody tr th:only-of-type {\n",
       "        vertical-align: middle;\n",
       "    }\n",
       "\n",
       "    .dataframe tbody tr th {\n",
       "        vertical-align: top;\n",
       "    }\n",
       "\n",
       "    .dataframe thead th {\n",
       "        text-align: right;\n",
       "    }\n",
       "</style>\n",
       "<table border=\"1\" class=\"dataframe\">\n",
       "  <thead>\n",
       "    <tr style=\"text-align: right;\">\n",
       "      <th></th>\n",
       "      <th>Item Name</th>\n",
       "      <th>Purchase Count</th>\n",
       "      <th>Item Price</th>\n",
       "      <th>Total Purchase Value</th>\n",
       "    </tr>\n",
       "    <tr>\n",
       "      <th>Item ID</th>\n",
       "      <th></th>\n",
       "      <th></th>\n",
       "      <th></th>\n",
       "      <th></th>\n",
       "    </tr>\n",
       "  </thead>\n",
       "  <tbody>\n",
       "    <tr>\n",
       "      <th>178</th>\n",
       "      <td>Oathbreaker, Last Hope of the Breaking Storm</td>\n",
       "      <td>12</td>\n",
       "      <td>$4.23</td>\n",
       "      <td>$50.76</td>\n",
       "    </tr>\n",
       "    <tr>\n",
       "      <th>145</th>\n",
       "      <td>Fiery Glass Crusader</td>\n",
       "      <td>9</td>\n",
       "      <td>$4.58</td>\n",
       "      <td>$41.22</td>\n",
       "    </tr>\n",
       "    <tr>\n",
       "      <th>108</th>\n",
       "      <td>Extraction, Quickblade Of Trembling Hands</td>\n",
       "      <td>9</td>\n",
       "      <td>$3.53</td>\n",
       "      <td>$31.77</td>\n",
       "    </tr>\n",
       "    <tr>\n",
       "      <th>82</th>\n",
       "      <td>Nirvana</td>\n",
       "      <td>9</td>\n",
       "      <td>$4.90</td>\n",
       "      <td>$44.10</td>\n",
       "    </tr>\n",
       "    <tr>\n",
       "      <th>19</th>\n",
       "      <td>Pursuit, Cudgel of Necromancy</td>\n",
       "      <td>8</td>\n",
       "      <td>$1.02</td>\n",
       "      <td>$8.16</td>\n",
       "    </tr>\n",
       "  </tbody>\n",
       "</table>\n",
       "</div>"
      ],
      "text/plain": [
       "                                            Item Name  Purchase Count  \\\n",
       "Item ID                                                                 \n",
       "178      Oathbreaker, Last Hope of the Breaking Storm              12   \n",
       "145                              Fiery Glass Crusader               9   \n",
       "108         Extraction, Quickblade Of Trembling Hands               9   \n",
       "82                                            Nirvana               9   \n",
       "19                      Pursuit, Cudgel of Necromancy               8   \n",
       "\n",
       "        Item Price Total Purchase Value  \n",
       "Item ID                                  \n",
       "178          $4.23               $50.76  \n",
       "145          $4.58               $41.22  \n",
       "108          $3.53               $31.77  \n",
       "82           $4.90               $44.10  \n",
       "19           $1.02                $8.16  "
      ]
     },
     "execution_count": 569,
     "metadata": {},
     "output_type": "execute_result"
    }
   ],
   "source": [
    "#grouping by item Id\n",
    "Item_Id = Pymoli_Data.groupby(Pymoli_Data['Item ID'])\n",
    "\n",
    "#calculating variables\n",
    "Item_Name = Item_Id[\"Item Name\"].unique()\n",
    "Item_Purchase_Count = Item_Id['Age'].count()\n",
    "Item_Price = Item_Id['Price'].unique()\n",
    "Item_Total_Purchase = Item_Id['Price'].sum()\n",
    "\n",
    "most_popular_items_df = pd.DataFrame({\"Item Name\": Item_Name,\n",
    "                                     \"Purchase Count\": Item_Purchase_Count,\n",
    "                                     \"Item Price\": Item_Price,\n",
    "                                     \"Total Purchase Value\": Item_Total_Purchase})\n",
    "#sorting values by Purchase Count so by popularity\n",
    "most_popular_items_df = most_popular_items_df.sort_values('Purchase Count', ascending=False)\n",
    "\n",
    "#some formatting \n",
    "most_popular_items_df.iloc[:, 2] = most_popular_items_df.iloc[:, 2].str[0].astype(float)\n",
    "most_popular_items_df.iloc[:, 0] = most_popular_items_df.iloc[:, 0].str[0].astype(str)\n",
    "most_popular_items_df[\"Item Price\"] = most_popular_items_df[\"Item Price\"].map(\"${:.2f}\".format)\n",
    "most_popular_items_df[\"Total Purchase Value\"] = most_popular_items_df[\"Total Purchase Value\"].map(\"${:.2f}\".format)\n",
    "\n",
    "most_popular_items_df.head()\n"
   ]
  },
  {
   "cell_type": "markdown",
   "metadata": {},
   "source": [
    "Most Profitable Items"
   ]
  },
  {
   "cell_type": "code",
   "execution_count": 570,
   "metadata": {},
   "outputs": [
    {
     "data": {
      "text/html": [
       "<div>\n",
       "<style scoped>\n",
       "    .dataframe tbody tr th:only-of-type {\n",
       "        vertical-align: middle;\n",
       "    }\n",
       "\n",
       "    .dataframe tbody tr th {\n",
       "        vertical-align: top;\n",
       "    }\n",
       "\n",
       "    .dataframe thead th {\n",
       "        text-align: right;\n",
       "    }\n",
       "</style>\n",
       "<table border=\"1\" class=\"dataframe\">\n",
       "  <thead>\n",
       "    <tr style=\"text-align: right;\">\n",
       "      <th></th>\n",
       "      <th>Item Name</th>\n",
       "      <th>Purchase Count</th>\n",
       "      <th>Item Price</th>\n",
       "      <th>Total Purchase Value</th>\n",
       "    </tr>\n",
       "    <tr>\n",
       "      <th>Item ID</th>\n",
       "      <th></th>\n",
       "      <th></th>\n",
       "      <th></th>\n",
       "      <th></th>\n",
       "    </tr>\n",
       "  </thead>\n",
       "  <tbody>\n",
       "    <tr>\n",
       "      <th>178</th>\n",
       "      <td>Oathbreaker, Last Hope of the Breaking Storm</td>\n",
       "      <td>12</td>\n",
       "      <td>$4.23</td>\n",
       "      <td>$50.76</td>\n",
       "    </tr>\n",
       "    <tr>\n",
       "      <th>82</th>\n",
       "      <td>Nirvana</td>\n",
       "      <td>9</td>\n",
       "      <td>$4.90</td>\n",
       "      <td>$44.10</td>\n",
       "    </tr>\n",
       "    <tr>\n",
       "      <th>145</th>\n",
       "      <td>Fiery Glass Crusader</td>\n",
       "      <td>9</td>\n",
       "      <td>$4.58</td>\n",
       "      <td>$41.22</td>\n",
       "    </tr>\n",
       "    <tr>\n",
       "      <th>92</th>\n",
       "      <td>Final Critic</td>\n",
       "      <td>8</td>\n",
       "      <td>$4.88</td>\n",
       "      <td>$39.04</td>\n",
       "    </tr>\n",
       "    <tr>\n",
       "      <th>103</th>\n",
       "      <td>Singed Scalpel</td>\n",
       "      <td>8</td>\n",
       "      <td>$4.35</td>\n",
       "      <td>$34.80</td>\n",
       "    </tr>\n",
       "  </tbody>\n",
       "</table>\n",
       "</div>"
      ],
      "text/plain": [
       "                                            Item Name  Purchase Count  \\\n",
       "Item ID                                                                 \n",
       "178      Oathbreaker, Last Hope of the Breaking Storm              12   \n",
       "82                                            Nirvana               9   \n",
       "145                              Fiery Glass Crusader               9   \n",
       "92                                       Final Critic               8   \n",
       "103                                    Singed Scalpel               8   \n",
       "\n",
       "        Item Price Total Purchase Value  \n",
       "Item ID                                  \n",
       "178          $4.23               $50.76  \n",
       "82           $4.90               $44.10  \n",
       "145          $4.58               $41.22  \n",
       "92           $4.88               $39.04  \n",
       "103          $4.35               $34.80  "
      ]
     },
     "execution_count": 570,
     "metadata": {},
     "output_type": "execute_result"
    }
   ],
   "source": [
    "\n",
    "#sorting table by total purchase value so by profit\n",
    "MostProfit = ItemTable1.sort_values('Total Purchase Value', ascending=False)\n",
    "#some formatting \n",
    "MostProfit.iloc[:, 2] = MostProfit.iloc[:, 2].str[0].astype(float)\n",
    "MostProfit.iloc[:, 0] = MostProfit.iloc[:, 0].str[0].astype(str)\n",
    "MostProfit[\"Item Price\"] = MostProfit[\"Item Price\"].map(\"${:.2f}\".format)\n",
    "MostProfit[\"Total Purchase Value\"] = MostProfit[\"Total Purchase Value\"].map(\"${:.2f}\".format)\n",
    "\n",
    "\n",
    "#displaying dataframe \n",
    "MostProfit.head()"
   ]
  }
 ],
 "metadata": {
  "kernelspec": {
   "display_name": "Python 3",
   "language": "python",
   "name": "python3"
  },
  "language_info": {
   "codemirror_mode": {
    "name": "ipython",
    "version": 3
   },
   "file_extension": ".py",
   "mimetype": "text/x-python",
   "name": "python",
   "nbconvert_exporter": "python",
   "pygments_lexer": "ipython3",
   "version": "3.6.6"
  }
 },
 "nbformat": 4,
 "nbformat_minor": 2
}
